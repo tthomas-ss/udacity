{
 "cells": [
  {
   "cell_type": "code",
   "execution_count": 1,
   "metadata": {
    "_uuid": "1bfa1b01eb23052d0ebd4a432397e5f7d867a4a3"
   },
   "outputs": [
    {
     "name": "stderr",
     "output_type": "stream",
     "text": [
      "Using TensorFlow backend.\n"
     ]
    },
    {
     "name": "stdout",
     "output_type": "stream",
     "text": [
      "[nltk_data] Downloading package stopwords to /home/ubuntu/nltk_data...\n",
      "[nltk_data]   Package stopwords is already up-to-date!\n"
     ]
    }
   ],
   "source": [
    "# Note: you may need to update your version of future\n",
    "# sudo pip install -U future\n",
    "\n",
    "import os\n",
    "import sys\n",
    "import numpy as np\n",
    "import pandas as pd\n",
    "import matplotlib.pyplot as plt\n",
    "import seaborn as sb\n",
    "import re\n",
    "import string\n",
    "\n",
    "from keras.preprocessing.text import Tokenizer\n",
    "from keras.preprocessing.sequence import pad_sequences\n",
    "from keras.layers import Dense, Input, GlobalMaxPooling1D, GlobalAveragePooling1D, CuDNNLSTM, CuDNNGRU, Conv1D, Activation\n",
    "from keras.layers import Conv1D, MaxPooling1D, Embedding, Dropout, Flatten, Bidirectional, GlobalMaxPool1D\n",
    "\n",
    "from keras.models import Model, Sequential\n",
    "from keras.callbacks import ModelCheckpoint\n",
    "from keras.optimizers import Adam\n",
    "\n",
    "from sklearn.metrics import roc_auc_score, f1_score, confusion_matrix, roc_curve, accuracy_score\n",
    "from sklearn.model_selection import GridSearchCV,train_test_split, KFold\n",
    "\n",
    "\n",
    "import nltk\n",
    "from nltk.corpus import stopwords\n",
    "from nltk.stem import SnowballStemmer, WordNetLemmatizer\n",
    "\n",
    "from capstone_utils import *\n",
    "\n",
    "# Inline plotting\n",
    "%matplotlib inline\n",
    "pd.set_option('display.width', 200)\n",
    "pd.set_option('max_colwidth', 2000)"
   ]
  },
  {
   "cell_type": "code",
   "execution_count": 2,
   "metadata": {
    "_uuid": "1d0f6fca4b1c84e383dd4a82da2f18bdd41accfc"
   },
   "outputs": [],
   "source": [
    "# Config\n",
    "from numpy.random import seed\n",
    "seed(1)\n",
    "from tensorflow import set_random_seed\n",
    "set_random_seed(2)\n",
    "\n",
    "MAX_SEQUENCE_LENGTH = 150\n",
    "MAX_VOCAB_SIZE = 30000\n",
    "EMBEDDING_DIM = 300"
   ]
  },
  {
   "cell_type": "code",
   "execution_count": 3,
   "metadata": {
    "_uuid": "ef82d6ee6721cf9608e8b1cca35917bdd8f9f927"
   },
   "outputs": [
    {
     "name": "stdout",
     "output_type": "stream",
     "text": [
      "Loading questions...\n",
      "Done loading train - Loading test\n",
      "Done loading test\n"
     ]
    }
   ],
   "source": [
    "train, test, corpus = load_data('../data', clean=False, lower_stop=False)"
   ]
  },
  {
   "cell_type": "code",
   "execution_count": 4,
   "metadata": {
    "_uuid": "9221d5a8721b1655abe18f1996020c4445929a4a"
   },
   "outputs": [
    {
     "name": "stdout",
     "output_type": "stream",
     "text": [
      "Loading word vectors...\n",
      "Word: . - could not convert string to float: '.'\n",
      "Word: at - could not convert string to float: 'name@domain.com'\n",
      "Word: . - could not convert string to float: '.'\n",
      "Word: to - could not convert string to float: 'name@domain.com'\n",
      "Word: . - could not convert string to float: '.'\n",
      "Word: . - could not convert string to float: '.'\n",
      "Word: email - could not convert string to float: 'name@domain.com'\n",
      "Word: or - could not convert string to float: 'name@domain.com'\n",
      "Word: contact - could not convert string to float: 'name@domain.com'\n",
      "Word: Email - could not convert string to float: 'name@domain.com'\n",
      "Word: on - could not convert string to float: 'name@domain.com'\n",
      "Word: At - could not convert string to float: 'Killerseats.com'\n",
      "Word: by - could not convert string to float: 'name@domain.com'\n",
      "Word: in - could not convert string to float: 'mylot.com'\n",
      "Word: emailing - could not convert string to float: 'name@domain.com'\n",
      "Word: Contact - could not convert string to float: 'name@domain.com'\n",
      "Word: at - could not convert string to float: 'name@domain.com'\n",
      "Word: • - could not convert string to float: 'name@domain.com'\n",
      "Word: at - could not convert string to float: 'Amazon.com'\n",
      "Word: is - could not convert string to float: 'name@domain.com'\n",
      "Found 2195884 word vectors.\n"
     ]
    }
   ],
   "source": [
    "word2vec = load_embeddings(path='../data/glove.840B.300d/glove.840B.300d.txt')"
   ]
  },
  {
   "cell_type": "code",
   "execution_count": 5,
   "metadata": {
    "_uuid": "ae6dfa003b86ad242352a7268f6e92d48834e8d1"
   },
   "outputs": [],
   "source": [
    "# convert the sentences (strings) into integers\n",
    "targets = train['target'].values\n",
    "tokenizer = Tokenizer(num_words=MAX_VOCAB_SIZE)\n",
    "tokenizer.fit_on_texts(corpus)\n",
    "sequences = tokenizer.texts_to_sequences(train[\"question_text\"])\n",
    "test_sequences = tokenizer.texts_to_sequences(test['question_text'])"
   ]
  },
  {
   "cell_type": "code",
   "execution_count": 6,
   "metadata": {
    "_uuid": "81c7685e889db9c83432222e5953e6c1949585cb"
   },
   "outputs": [
    {
     "name": "stdout",
     "output_type": "stream",
     "text": [
      "Found 227538 unique tokens.\n"
     ]
    }
   ],
   "source": [
    "# get word -> integer mapping\n",
    "word2idx = tokenizer.word_index\n",
    "print('Found %s unique tokens.' % len(word2idx))"
   ]
  },
  {
   "cell_type": "code",
   "execution_count": 7,
   "metadata": {},
   "outputs": [
    {
     "name": "stdout",
     "output_type": "stream",
     "text": [
      "Filling pre-trained embeddings...\n"
     ]
    }
   ],
   "source": [
    "embedding_matrix = load_embedding_matrix(word2idx, word2vec, MAX_VOCAB_SIZE, EMBEDDING_DIM)"
   ]
  },
  {
   "cell_type": "code",
   "execution_count": 8,
   "metadata": {
    "_uuid": "730b93ffd8927e4485ad45c9066930ef25b1e8fb"
   },
   "outputs": [
    {
     "name": "stdout",
     "output_type": "stream",
     "text": [
      "Shape of data tensor: (1306122, 150)\n"
     ]
    }
   ],
   "source": [
    "# pad sequences so that we get a N x T matrix\n",
    "data = pad_sequences(sequences, maxlen=MAX_SEQUENCE_LENGTH)\n",
    "print('Shape of data tensor:', data.shape)"
   ]
  },
  {
   "cell_type": "code",
   "execution_count": 9,
   "metadata": {
    "_uuid": "21336f9908a9aa203f92f2a4c5580f8537126e63"
   },
   "outputs": [
    {
     "name": "stdout",
     "output_type": "stream",
     "text": [
      "Shape of testdata tensor: (56370, 150)\n"
     ]
    }
   ],
   "source": [
    "test_data = pad_sequences(test_sequences, maxlen=MAX_SEQUENCE_LENGTH)\n",
    "print('Shape of testdata tensor:', test_data.shape)"
   ]
  },
  {
   "cell_type": "code",
   "execution_count": 10,
   "metadata": {
    "_uuid": "582520344658023de69ce859f28d83081e0cf577"
   },
   "outputs": [],
   "source": [
    "X_train, X_test, y_train, y_test = train_test_split(data, targets, test_size=0.3, random_state=42)"
   ]
  },
  {
   "cell_type": "code",
   "execution_count": 11,
   "metadata": {
    "_uuid": "83bb6288a76aa89a5cafc73aea1483af7bd746f0"
   },
   "outputs": [],
   "source": [
    "embedding_layer = Embedding(\n",
    "  MAX_VOCAB_SIZE,\n",
    "  EMBEDDING_DIM,\n",
    "  weights=[embedding_matrix],\n",
    "  input_length=MAX_SEQUENCE_LENGTH,\n",
    "  trainable=False\n",
    ")"
   ]
  },
  {
   "cell_type": "code",
   "execution_count": 12,
   "metadata": {},
   "outputs": [],
   "source": [
    "BATCH_SIZE = 512\n",
    "EPOCHS = 4"
   ]
  },
  {
   "cell_type": "code",
   "execution_count": 13,
   "metadata": {
    "_uuid": "ba670f548f8bb2055fd2f0994ef4db5e73d64ee3"
   },
   "outputs": [
    {
     "name": "stdout",
     "output_type": "stream",
     "text": [
      "_________________________________________________________________\n",
      "Layer (type)                 Output Shape              Param #   \n",
      "=================================================================\n",
      "input_1 (InputLayer)         (None, 150)               0         \n",
      "_________________________________________________________________\n",
      "embedding_1 (Embedding)      (None, 150, 300)          9000000   \n",
      "_________________________________________________________________\n",
      "cu_dnngru_1 (CuDNNGRU)       (None, 150, 64)           70272     \n",
      "_________________________________________________________________\n",
      "global_max_pooling1d_1 (Glob (None, 64)                0         \n",
      "_________________________________________________________________\n",
      "dense_1 (Dense)              (None, 64)                4160      \n",
      "_________________________________________________________________\n",
      "dropout_1 (Dropout)          (None, 64)                0         \n",
      "_________________________________________________________________\n",
      "dense_2 (Dense)              (None, 32)                2080      \n",
      "_________________________________________________________________\n",
      "dense_3 (Dense)              (None, 1)                 33        \n",
      "=================================================================\n",
      "Total params: 9,076,545\n",
      "Trainable params: 76,545\n",
      "Non-trainable params: 9,000,000\n",
      "_________________________________________________________________\n",
      "None\n"
     ]
    }
   ],
   "source": [
    "\n",
    "model_cp_filepath = 'gruone_embeddings.ep-{epoch:02d}-loss-{val_loss:.2f}.hdf5'\n",
    "\n",
    "optimizer = Adam(lr=0.001, decay=0.0001);\n",
    "\n",
    "input_layer = Input(shape=(MAX_SEQUENCE_LENGTH,))\n",
    "x = embedding_layer (input_layer)\n",
    "x = CuDNNGRU(64, return_sequences=True)(x)\n",
    "x = GlobalMaxPool1D()(x)\n",
    "x = Dense(64, activation=\"relu\")(x)\n",
    "x = Dropout(0.2)(x)\n",
    "x = Dense(32, activation=\"relu\")(x)\n",
    "x = Dense(1, activation=\"sigmoid\")(x)\n",
    "model = Model(inputs=input_layer, outputs=x)\n",
    "model.compile(loss='binary_crossentropy', optimizer=optimizer, metrics=['acc'])\n",
    "\n",
    "print(model.summary())"
   ]
  },
  {
   "cell_type": "code",
   "execution_count": 14,
   "metadata": {
    "_uuid": "f352df6abd4f9efae805e8cd9f6bd7cdd53c1636"
   },
   "outputs": [
    {
     "name": "stdout",
     "output_type": "stream",
     "text": [
      "Training model for 4 epochs\n",
      "Train on 914285 samples, validate on 391837 samples\n",
      "Epoch 1/4\n",
      "914285/914285 [==============================] - 110s 121us/step - loss: 0.1247 - acc: 0.9519 - val_loss: 0.1080 - val_acc: 0.9579\n",
      "Epoch 2/4\n",
      "914285/914285 [==============================] - 108s 118us/step - loss: 0.1089 - acc: 0.9572 - val_loss: 0.1055 - val_acc: 0.9582\n",
      "Epoch 3/4\n",
      "914285/914285 [==============================] - 108s 118us/step - loss: 0.1047 - acc: 0.9587 - val_loss: 0.1043 - val_acc: 0.9592\n",
      "Epoch 4/4\n",
      "914285/914285 [==============================] - 108s 118us/step - loss: 0.1013 - acc: 0.9599 - val_loss: 0.1033 - val_acc: 0.9597\n"
     ]
    }
   ],
   "source": [
    "print('Training model for {} epochs'.format(EPOCHS))\n",
    "\n",
    "model_cp = ModelCheckpoint(model_cp_filepath, monitor='val_loss', verbose=0, \n",
    "                     save_best_only=True, save_weights_only=False, mode='auto', period=1)\n",
    "\n",
    "r = model.fit(X_train, y_train, batch_size=BATCH_SIZE, epochs=EPOCHS, \n",
    "                   validation_data=(X_test, y_test), callbacks=[model_cp])"
   ]
  },
  {
   "cell_type": "code",
   "execution_count": 15,
   "metadata": {
    "_uuid": "958cfb0288494fe6b09c6267b92109344bae8d4e"
   },
   "outputs": [
    {
     "name": "stdout",
     "output_type": "stream",
     "text": [
      "F1 score at threshold 0.1 is 0.5974166083508281\n",
      "F1 score at threshold 0.11 is 0.6060660498817331\n",
      "F1 score at threshold 0.12 is 0.6140794168542595\n",
      "F1 score at threshold 0.13 is 0.6207953461460272\n",
      "F1 score at threshold 0.14 is 0.6268123454820959\n",
      "F1 score at threshold 0.15 is 0.6315977464971669\n",
      "F1 score at threshold 0.16 is 0.6361487993918461\n",
      "F1 score at threshold 0.17 is 0.6402418542156534\n",
      "F1 score at threshold 0.18 is 0.644659664438685\n",
      "F1 score at threshold 0.19 is 0.6487666297117516\n",
      "F1 score at threshold 0.2 is 0.6509847979496541\n",
      "F1 score at threshold 0.21 is 0.6534586492933177\n",
      "F1 score at threshold 0.22 is 0.6553631596965711\n",
      "F1 score at threshold 0.23 is 0.6572564467301308\n",
      "F1 score at threshold 0.24 is 0.6579515073292154\n",
      "F1 score at threshold 0.25 is 0.6587748406099698\n",
      "F1 score at threshold 0.26 is 0.6599736296854398\n",
      "F1 score at threshold 0.27 is 0.6603565171021559\n",
      "F1 score at threshold 0.28 is 0.6601904395498701\n",
      "F1 score at threshold 0.29 is 0.6604745156714532\n",
      "F1 score at threshold 0.3 is 0.6606466304155788\n",
      "F1 score at threshold 0.31 is 0.6607847413605092\n",
      "F1 score at threshold 0.32 is 0.6605306334787306\n",
      "F1 score at threshold 0.33 is 0.6604292123024695\n",
      "F1 score at threshold 0.34 is 0.6597879282218596\n",
      "F1 score at threshold 0.35 is 0.6594667983214021\n",
      "F1 score at threshold 0.36 is 0.6582783107013829\n",
      "F1 score at threshold 0.37 is 0.6572535875144024\n",
      "F1 score at threshold 0.38 is 0.6559601039663588\n",
      "F1 score at threshold 0.39 is 0.6534910990299541\n",
      "F1 score at threshold 0.4 is 0.6523254313126533\n",
      "F1 score at threshold 0.41 is 0.6509730750037969\n",
      "F1 score at threshold 0.42 is 0.6484593837535013\n",
      "F1 score at threshold 0.43 is 0.6460098870056497\n",
      "F1 score at threshold 0.44 is 0.6441862535612536\n",
      "F1 score at threshold 0.45 is 0.6422784298763382\n",
      "F1 score at threshold 0.46 is 0.6395417289317574\n",
      "F1 score at threshold 0.47 is 0.6377877237851662\n",
      "F1 score at threshold 0.48 is 0.6357795841296889\n",
      "F1 score at threshold 0.49 is 0.6329066877279379\n",
      "F1 score at threshold 0.5 is 0.6298681529706565\n",
      "F1 score at threshold 0.51 is 0.6259303891684979\n",
      "F1 score at threshold 0.52 is 0.6222921284049474\n",
      "F1 score at threshold 0.53 is 0.6186562860438293\n",
      "F1 score at threshold 0.54 is 0.6147914645974781\n",
      "F1 score at threshold 0.55 is 0.6105973873477175\n",
      "F1 score at threshold 0.56 is 0.6060695854013878\n",
      "F1 score at threshold 0.57 is 0.6013202142234401\n",
      "F1 score at threshold 0.58 is 0.5961761006289309\n",
      "F1 score at threshold 0.59 is 0.5900431800863603\n",
      "F1 score at threshold 0.6 is 0.5838569853035471\n",
      "F1 score at threshold 0.61 is 0.5781791832720874\n",
      "F1 score at threshold 0.62 is 0.5721755954715403\n",
      "F1 score at threshold 0.63 is 0.5659769021380057\n",
      "F1 score at threshold 0.64 is 0.559914598345343\n",
      "F1 score at threshold 0.65 is 0.5522931327347731\n",
      "F1 score at threshold 0.66 is 0.5443493430736521\n",
      "F1 score at threshold 0.67 is 0.535094006726581\n",
      "F1 score at threshold 0.68 is 0.5245223997318734\n",
      "F1 score at threshold 0.69 is 0.5138786816665725\n",
      "F1 score at threshold 0.7 is 0.5031641038856913\n",
      "F1 score at threshold 0.71 is 0.49189455673810284\n",
      "F1 score at threshold 0.72 is 0.4802115469369766\n",
      "F1 score at threshold 0.73 is 0.4660246280449626\n",
      "F1 score at threshold 0.74 is 0.4517007626195376\n",
      "F1 score at threshold 0.75 is 0.43578856685742406\n",
      "F1 score at threshold 0.76 is 0.41940825444434027\n",
      "F1 score at threshold 0.77 is 0.4016898545200432\n",
      "F1 score at threshold 0.78 is 0.3807397340064072\n",
      "F1 score at threshold 0.79 is 0.35834296088463446\n",
      "F1 score at threshold 0.8 is 0.33316486404528456\n",
      "F1 score at threshold 0.81 is 0.30591799497366334\n",
      "F1 score at threshold 0.82 is 0.27519379844961245\n",
      "F1 score at threshold 0.83 is 0.24479504358475615\n",
      "F1 score at threshold 0.84 is 0.21084448376276313\n",
      "F1 score at threshold 0.85 is 0.1763596590480501\n",
      "F1 score at threshold 0.86 is 0.14194841744091907\n",
      "F1 score at threshold 0.87 is 0.10940144032112079\n",
      "F1 score at threshold 0.88 is 0.07639223238645483\n",
      "F1 score at threshold 0.89 is 0.053849595314597154\n",
      "Best F1 0.6607847413605092 at 0.31\n"
     ]
    }
   ],
   "source": [
    "val_predictions = model.predict(X_test)\n",
    "best_threshold = threshold_search(y_test, val_predictions, min_threshold=0.1, max_threshold=0.9)"
   ]
  },
  {
   "cell_type": "code",
   "execution_count": 16,
   "metadata": {
    "_uuid": "e284eaa2436f6469dd8a29a84250c27c968ac642"
   },
   "outputs": [],
   "source": [
    "submission_predictions = model.predict(test_data)\n",
    "submission_best_predictions = (submission_predictions > best_threshold.get('threshold')).astype(int)"
   ]
  },
  {
   "cell_type": "code",
   "execution_count": 17,
   "metadata": {
    "_uuid": "9ebe26e48ffed5c03d8d15b53f63b5fbcfce7d66"
   },
   "outputs": [],
   "source": [
    "submission = pd.DataFrame({\"qid\":test[\"qid\"].values})\n",
    "submission['prediction'] = submission_best_predictions\n",
    "submission.to_csv(\"submission.csv\", index=False)"
   ]
  },
  {
   "cell_type": "code",
   "execution_count": 18,
   "metadata": {},
   "outputs": [
    {
     "name": "stdout",
     "output_type": "stream",
     "text": [
      "[nltk_data] Downloading package stopwords to /home/ubuntu/nltk_data...\n",
      "[nltk_data]   Package stopwords is already up-to-date!\n"
     ]
    }
   ],
   "source": [
    "import importlib\n",
    "import capstone_utils\n",
    "importlib.reload(capstone_utils)\n",
    "from capstone_utils import *"
   ]
  },
  {
   "cell_type": "code",
   "execution_count": null,
   "metadata": {},
   "outputs": [],
   "source": []
  }
 ],
 "metadata": {
  "anaconda-cloud": {},
  "kernelspec": {
   "display_name": "Python [conda env:tensorflow_p36]",
   "language": "python",
   "name": "conda-env-tensorflow_p36-py"
  },
  "language_info": {
   "codemirror_mode": {
    "name": "ipython",
    "version": 3
   },
   "file_extension": ".py",
   "mimetype": "text/x-python",
   "name": "python",
   "nbconvert_exporter": "python",
   "pygments_lexer": "ipython3",
   "version": "3.6.5"
  }
 },
 "nbformat": 4,
 "nbformat_minor": 1
}
